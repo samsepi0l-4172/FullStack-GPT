{
 "cells": [
  {
   "cell_type": "code",
   "execution_count": 12,
   "metadata": {},
   "outputs": [],
   "source": [
    "from typing import List\n",
    "from pydantic.v1 import BaseModel, Field\n",
    "\n",
    "\n",
    "class radio_answer_schema(BaseModel):\n",
    "    answer: str = Field(description=\"make a radio answer\")\n",
    "    correct: bool = Field(description=\"is the answer correct\")\n",
    "\n",
    "\n",
    "class radio_schema(BaseModel):\n",
    "    question: str = Field(\n",
    "        description=\"function that takes a string of question and returns a quiz\"\n",
    "    )\n",
    "    answers: List[radio_answer_schema] | bool = Field(\n",
    "        description=\"function that takes a list and answers and returns a quiz\"\n",
    "    )"
   ]
  },
  {
   "cell_type": "code",
   "execution_count": 13,
   "metadata": {},
   "outputs": [],
   "source": [
    "# radio_template = {\n",
    "#     \"name\": \"radio_quiz\",\n",
    "#     \"description\": \"function that takes a list of questions and answers and returns a radio quiz\",\n",
    "#     \"parameters\": {\n",
    "#         \"type\": \"object\",\n",
    "#         \"properties\": {\n",
    "#             \"questions\": {\n",
    "#                 \"type\": \"array\",\n",
    "#                 \"items\": {\n",
    "#                     \"type\": \"object\",\n",
    "#                     \"properties\": {\n",
    "#                         \"question\": {\n",
    "#                             \"type\": \"string\",\n",
    "#                         },\n",
    "#                         \"answers\": {\n",
    "#                             \"type\": \"array\",\n",
    "#                             \"items\": {\n",
    "#                                 \"type\": \"object\",\n",
    "#                                 \"properties\": {\n",
    "#                                     \"answer\": {\n",
    "#                                         \"type\": \"string\",\n",
    "#                                     },\n",
    "#                                     \"correct\": {\n",
    "#                                         \"type\": \"boolean\",\n",
    "#                                     },\n",
    "#                                 },\n",
    "#                                 \"required\": [\"answer\", \"correct\"],\n",
    "#                             },\n",
    "#                         },\n",
    "#                     },\n",
    "#                     \"required\": [\"question\", \"answers\"],\n",
    "#                 },\n",
    "#             }\n",
    "#         },\n",
    "#         \"required\": [\"questions\"],\n",
    "#     },\n",
    "# }"
   ]
  },
  {
   "cell_type": "code",
   "execution_count": 14,
   "metadata": {},
   "outputs": [],
   "source": [
    "from langchain_openai import ChatOpenAI\n",
    "\n",
    "llm = ChatOpenAI().with_structured_output(radio_schema)"
   ]
  },
  {
   "cell_type": "code",
   "execution_count": 15,
   "metadata": {},
   "outputs": [
    {
     "data": {
      "text/plain": [
       "radio_schema(question='What year was Rome founded?', answers=[radio_answer_schema(answer='753 BC', correct=True), radio_answer_schema(answer='476 AD', correct=False), radio_answer_schema(answer='1000 AD', correct=False), radio_answer_schema(answer='1066 AD', correct=False)])"
      ]
     },
     "execution_count": 15,
     "metadata": {},
     "output_type": "execute_result"
    }
   ],
   "source": [
    "from langchain_core.prompts import PromptTemplate\n",
    "\n",
    "prompt = PromptTemplate.from_template(\"Make a 10 quiz about {city}\")\n",
    "\n",
    "chain = prompt | llm\n",
    "\n",
    "response = chain.invoke(\n",
    "    {\n",
    "        \"city\": \"rome\",\n",
    "    }\n",
    ")\n",
    "\n",
    "# response = response.additional_kwargs[\"function_call\"][\"arguments\"]\n",
    "\n",
    "response"
   ]
  },
  {
   "cell_type": "code",
   "execution_count": 16,
   "metadata": {},
   "outputs": [
    {
     "name": "stdout",
     "output_type": "stream",
     "text": [
      "question\n",
      "answers\n"
     ]
    }
   ],
   "source": [
    "import json\n",
    "\n",
    "for question in json.loads(response.json()):\n",
    "    print(question)"
   ]
  },
  {
   "cell_type": "code",
   "execution_count": 17,
   "metadata": {},
   "outputs": [],
   "source": [
    "# short_answer_template = {\n",
    "#     \"name\": \"short_answer_quiz\",\n",
    "#     \"description\": \"function that takes a list of questions and answers and return the short answer questions\",\n",
    "#     \"parameters\": {\n",
    "#         \"type\": \"object\",\n",
    "#         \"properties\": {\n",
    "#             \"questions\": {\n",
    "#                 \"type\": \"array\",\n",
    "#                 \"items\": {\n",
    "#                     \"type\": \"object\",\n",
    "#                     \"properties\": {\n",
    "#                         \"question\": {\n",
    "#                             \"type\": \"string\",\n",
    "#                         },\n",
    "#                         \"answers\": {\n",
    "#                             \"type\": \"array\",\n",
    "#                             \"items\": {\n",
    "#                                 \"type\": \"object\",\n",
    "#                                 \"properties\": {\n",
    "#                                     \"answer\": {\n",
    "#                                         \"type\": \"string\",\n",
    "#                                     },\n",
    "#                                     \"correct\": {\n",
    "#                                         \"type\": \"boolean\",\n",
    "#                                     },\n",
    "#                                 },\n",
    "#                                 \"required\": [\n",
    "#                                     \"answer\",\n",
    "#                                     \"correct\",\n",
    "#                                 ],\n",
    "#                             },\n",
    "#                         },\n",
    "#                     },\n",
    "#                     \"required\": [\n",
    "#                         \"question\",\n",
    "#                         \"answers\",\n",
    "#                     ],\n",
    "#                 },\n",
    "#             }\n",
    "#         },\n",
    "#         \"required\": [\"questions\"],\n",
    "#     },\n",
    "# }"
   ]
  }
 ],
 "metadata": {
  "kernelspec": {
   "display_name": "venv",
   "language": "python",
   "name": "python3"
  },
  "language_info": {
   "codemirror_mode": {
    "name": "ipython",
    "version": 3
   },
   "file_extension": ".py",
   "mimetype": "text/x-python",
   "name": "python",
   "nbconvert_exporter": "python",
   "pygments_lexer": "ipython3",
   "version": "3.12.4"
  }
 },
 "nbformat": 4,
 "nbformat_minor": 2
}
