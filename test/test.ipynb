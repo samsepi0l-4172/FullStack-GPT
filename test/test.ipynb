{
 "cells": [
  {
   "cell_type": "code",
   "execution_count": null,
   "metadata": {},
   "outputs": [],
   "source": [
    "from langchain import LangChain\n",
    "from langchain.tools import SQLManager\n",
    "\n",
    "# Create a LangChain instance\n",
    "lc = LangChain()\n",
    "\n",
    "# Use the langchain package to make English questions\n",
    "question = lc.make_question(\"What is the average salary of employees?\")\n",
    "print(question)\n",
    "\n",
    "# Use the langchain package to manage SQL\n",
    "sql_manager = SQLManager()\n",
    "\n",
    "# Create a SQL query\n",
    "query = \"SELECT * FROM employees WHERE salary > 50000\"\n",
    "\n",
    "# Execute the SQL query using the SQLManager\n",
    "result = sql_manager.execute_query(query)\n",
    "print(result)"
   ]
  }
 ],
 "metadata": {
  "kernelspec": {
   "display_name": "venv",
   "language": "python",
   "name": "python3"
  },
  "language_info": {
   "name": "python",
   "version": "3.12.4"
  }
 },
 "nbformat": 4,
 "nbformat_minor": 2
}
