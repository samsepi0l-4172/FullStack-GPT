{
 "cells": [
  {
   "cell_type": "code",
   "execution_count": 1,
   "metadata": {},
   "outputs": [
    {
     "data": {
      "text/plain": [
       "AIMessage(content=\"I'm sorry, I cannot provide real-time weather information. I recommend checking a reliable weather website or app for the current weather in Rome.\", response_metadata={'token_usage': {'completion_tokens': 28, 'prompt_tokens': 14, 'total_tokens': 42}, 'model_name': 'gpt-3.5-turbo-0125', 'system_fingerprint': None, 'finish_reason': 'stop', 'logprobs': None}, id='run-be9fc089-81b5-42ca-93ec-8f9f988ee9f1-0', usage_metadata={'input_tokens': 14, 'output_tokens': 28, 'total_tokens': 42})"
      ]
     },
     "execution_count": 1,
     "metadata": {},
     "output_type": "execute_result"
    }
   ],
   "sou