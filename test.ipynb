{
 "cells": [
  {
   "cell_type": "code",
   "execution_count": 1,
   "metadata": {},
   "outputs": [],
   "source": [
    "import os\n",
    "from dotenv import load_dotenv\n",
    "\n",
    "os.environ[\"OPENAI_MODEL_NAME\"] = \"gpt-4o\""
   ]
  },
  {
   "cell_type": "code",
   "execution_count": null,
   "metadata": {},
   "outputs": [],
   "source": [
    "from crewai import Crew, Agent, Task\n",
    "\n",
    "international_chef = Agent(\n",
    "    role=\"International Chef\",\n",
    "    goal=\"Create ethnic cuisine recipies that are easy to cook at home\",\n",
    "    backstory=\"\"\"\n",
    "    You are an famous chef that specializes in couisine from countries all around the world.\n",
    "    You know how to cook the most traditional dishes from all cultures but you also know how to adapt them for people to be able to cook them at home.\n",
    "    \"\"\",\n",
    "    verbose=True,\n",
    "    allow_delegation=False,\n",
    ")\n",
    "\n",
    "healthy_chef = Agent(\n",
    "    role=\"Healthy Chef\",\n",
    "    goal=\"Turn any recipe into a healthy vegetarian recipe that is easy to cook with home ingredients.\",\n",
    "    backstory=\"\"\"\n",
    "    You are a chef specialized in healthy cooking.\n",
    "    You can take any recipe and change the ingredients to make it vegetarian friendly without loosing the escense of the dish and what makes it delicious.\n",
    "    \"\"\",\n",
    "    verbose=True,\n",
    "    allow_delegation=False,\n",
    ")"
   ]
  }
 ],
 "metadata": {
  "kernelspec": {
   "display_name": ".venv",
   "language": "python",
   "name": "python3"
  },
  "language_info": {
   "codemirror_mode": {
    "name": "ipython",
    "version": 3
   },
   "file_extension": ".py",
   "mimetype": "text/x-python",
   "name": "python",
   "nbconvert_exporter": "python",
   "pygments_lexer": "ipython3",
   "version": "3.12.4"
  }
 },
 "nbformat": 4,
 "nbformat_minor": 2
}
