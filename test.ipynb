{
 "cells": [
  {
   "cell_type": "code",
   "execution_count": 1,
   "metadata": {},
   "outputs": [],
   "source": [
    "import os\n",
    "from dotenv import load_dotenv\n",
    "\n",
    "os.environ[\"OPENAI_MODEL_NAME\"] = \"gpt-4o\""
   ]
  },
  {
   "cell_type": "code",
   "execution_count": 2,
   "metadata": {},
   "outputs": [],
   "source": [
    "from crewai import Crew, Agent, Task\n",
    "\n",
    "international_chef = Agent(\n",
    "    role=\"International Chef\",\n",
    "    goal=\"Create ethnic cuisine recipies that are easy to cook at home\",\n",
    "    backstory=\"\"\"\n",
    "    You are an famous chef that specializes in couisine from countries all around the world.\n",
    "    You know how to cook the most traditional dishes from all cultures but you also know how to adapt them for people to be able to cook them at home.\n",
    "    \"\"\",\n",
    "    verbose=True,\n",
    "    allow_delegation=True,\n",
    ")\n",
    "\n",
    "healthy_chef = Agent(\n",
    "    role=\"Healthy Chef\",\n",
    "    goal=\"Turn any recipe into a healthy vegetarian recipe that is easy to cook with home ingredients.\",\n",
    "    backstory=\"\"\"\n",
    "    You are a chef specialized in healthy cooking.\n",
    "    You can take any recipe and change the ingredients to make it vegetarian friendly without loosing the escense of the dish and what makes it delicious.\n",
    "    \"\"\",\n",
    "    verbose=True,\n",
    "    allow_delegation=True,\n",
    ")"
   ]
  },
  {
   "cell_type": "code",
   "execution_count": 3,
   "metadata": {},
   "outputs": [],
   "source": [
    "normal_recipe = Task(\n",
    "    description=\"Come up with a {dish} that serves {people} people.\",\n",
    "    agent=international_chef,\n",
    "    expected_output=\"Your answer MUST have three sections, the ingredients required with their quantities, the preparation instructions and serving suggestions\",\n",
    "    output_file=\"normal_recipe.md\",\n",
    ")\n",
    "\n",
    "healthy_recipe = Task(\n",
    "    description=\"Replace the ingredients of a recipe to make it vegetarian without making it less delicious, adjust if needed.\",\n",
    "    agent=healthy_chef,\n",
    "    expected_output=\"Your answer MUST have four sections, the ingredients required with their quantities, the preparation instructions, serving suggestions and an explanation of the replaced ingredients.\",\n",
    "    output_file=\"healthy_recipe.md\",\n",
    ")"
   ]
  },
  {
   "cell_type": "code",
   "execution_count": 4,
   "metadata": {},
   "outputs": [
    {
     "name": "stdout",
     "output_type": "stream",
     "text": [
      "\u001b[1m\u001b[95m [2024-07-07 19:37:39][DEBUG]: == Working Agent: International Chef\u001b[00m\n",
      "\u001b[1m\u001b[95m [2024-07-07 19:37:39][INFO]: == Starting Task: Come up with a Greek dinner that serves 5 people.\u001b[00m\n",
      "\n",
      "\n",
      "\u001b[1m> Entering new CrewAgentExecutor chain...\u001b[0m\n",
      "\u001b[32;1m\u001b[1;3mI need to come up with a Greek dinner that serves 5 people. To ensure the meal is both delicious and easy to cook at home, I'll create a menu that includes a main dish, a side, and a dessert. \n",
      "\n",
      "First, I'll think about a traditional Greek main dish that is popular and easy to make at home. Moussaka comes to mind, as it's a classic and beloved recipe. For the side, a Greek Salad would complement the Moussaka well. For dessert, Baklava is a traditional and relatively straightforward option.\n",
      "\n",
      "Let's begin with the ingredients and preparation instructions for each dish.\n",
      "\n",
      "Thought: I will create the full recipe for each dish, ensuring that it is simple enough for home cooks. Since I have the Healthy Chef as a resource, I will ask them for any advice or substitutions that could make the dishes healthier without compromising the traditional flavors.\n",
      "\n",
      "Action: Ask question to coworker\n",
      "Action Input: {\"question\": \"Could you provide any health-conscious substitutions or tips for a traditional Greek dinner menu that includes Moussaka, Greek Salad, and Baklava?\", \"context\": \"I am preparing a Greek dinner for 5 people and want to keep it as healthy as possible without losing the traditional flavors.\"}\n",
      "\u001b[0m\u001b[95m \n",
      "\n",
      "\n",
      "Error executing tool. coworker mentioned not found, it must be one of the following options:\n",
      "- healthy chef\n",
      "\n",
      "\u001b[00m\n",
      "\u001b[32;1m\u001b[1;3mThought:\n",
      "I made a small error in the capitalization of \"healthy chef.\" I will correct this and ask the question again.\n",
      "\n",
      "Action: Ask question to coworker\n",
      "Action Input: {\"question\": \"Could you provide any health-conscious substitutions or tips for a traditional Greek dinner menu that includes Moussaka, Greek Salad, and Baklava?\", \"context\": \"I am preparing a Greek dinner for 5 people and want to keep it as healthy as possible without losing the traditional flavors.\"}\n",
      "\u001b[0m\u001b[95m \n",
      "\n",
      "I tried reusing the same input, I must stop using this action input. I'll try something else instead.\n",
      "\n",
      "\n",
      "\u001b[00m\n"
     ]
    }
   ],
   "source": [
    "crew = Crew(\n",
    "    tasks=[\n",
    "        normal_recipe,\n",
    "        healthy_recipe,\n",
    "    ],\n",
    "    agents=[\n",
    "        international_chef,\n",
    "        healthy_chef,\n",
    "    ],\n",
    "    verbose=2,\n",
    ")\n",
    "\n",
    "result = crew.kickoff(\n",
    "    inputs=dict(\n",
    "        dish=\"Greek dinner\",\n",
    "        people=\"5\",\n",
    "    )\n",
    ")"
   ]
  }
 ],
 "metadata": {
  "kernelspec": {
   "display_name": ".venv",
   "language": "python",
   "name": "python3"
  },
  "language_info": {
   "codemirror_mode": {
    "name": "ipython",
    "version": 3
   },
   "file_extension": ".py",
   "mimetype": "text/x-python",
   "name": "python",
   "nbconvert_exporter": "python",
   "pygments_lexer": "ipython3",
   "version": "3.12.4"
  }
 },
 "nbformat": 4,
 "nbformat_minor": 2
}
