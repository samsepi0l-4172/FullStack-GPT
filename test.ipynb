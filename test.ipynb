{
 "cells": [
  {
   "cell_type": "code",
   "execution_count": 1,
   "metadata": {},
   "outputs": [],
   "source": [
    "import os\n",
    "from dotenv import load_dotenv\n",
    "\n",
    "os.environ[\"OPENAI_MODEL_NAME\"] = \"gpt-4o\""
   ]
  },
  {
   "cell_type": "code",
   "execution_count": 2,
   "metadata": {},
   "outputs": [],
   "source": [
    "from crewai import Crew, Agent, Task\n",
    "\n",
    "international_chef = Agent(\n",
    "    role=\"International Chef\",\n",
    "    goal=\"Create ethnic cuisine recipies that are easy to cook at home\",\n",
    "    backstory=\"\"\"\n",
    "    You are an famous chef that specializes in couisine from countries all around the world.\n",
    "    You know how to cook the most traditional dishes from all cultures but you also know how to adapt them for people to be able to cook them at home.\n",
    "    \"\"\",\n",
    "    verbose=True,\n",
    "    allow_delegation=True,\n",
    ")\n",
    "\n",
    "healthy_chef = Agent(\n",
    "    role=\"Healthy Chef\",\n",
    "    goal=\"Turn any recipe into a healthy vegetarian recipe that is easy to cook with home ingredients.\",\n",
    "    backstory=\"\"\"\n",
    "    You are a chef specialized in healthy cooking.\n",
    "    You can take any recipe and change the ingredients to make it vegetarian friendly without loosing the escense of the dish and what makes it delicious.\n",
    "    \"\"\",\n",
    "    verbose=True,\n",
    "    allow_delegation=True,\n",
    ")"
   ]
  },
  {
   "cell_type": "code",
   "execution_count": 3,
   "metadata": {},
   "outputs": [],
   "source": [
    "normal_recipe = Task(\n",
    "    description=\"Come up with a {dish} that serves {people} people.\",\n",
    "    agent=international_chef,\n",
    "    expected_output=\"Your answer MUST have three sections, the ingredients required with their quantities, the preparation instructions and serving suggestions\",\n",
    "    output_file=\"normal_recipe.md\",\n",
    ")\n",
    "\n",
    "healthy_recipe = Task(\n",
    "    description=\"Replace the ingredients of a recipe to make it vegetarian without making it less delicious, adjust if needed.\",\n",
    "    agent=healthy_chef,\n",
    "    expected_output=\"Your answer MUST have four sections, the ingredients required with their quantities, the preparation instructions, serving suggestions and an explanation of the replaced ingredients.\",\n",
    "    output_file=\"healthy_recipe.md\",\n",
    ")"
   ]
  },
  {
   "cell_type": "code",
   "execution_count": null,
   "metadata": {},
   "outputs": [],
   "source": [
    "crew = Crew(\n",
    "    tasks=[\n",
    "        normal_recipe,\n",
    "        healthy_recipe,\n",
    "    ],\n",
    "    agents=[\n",
    "        international_chef,\n",
    "        healthy_chef,\n",
    "    ],\n",
    "    verbose=2,\n",
    ")\n",
    "\n",
    "result = crew.kickoff(\n",
    "    inputs=dict(\n",
    "        dish=\"Greek dinner\",\n",
    "        people=\"5\",\n",
    "    )\n",
    ")"
   ]
  }
 ],
 "metadata": {
  "kernelspec": {
   "display_name": ".venv",
   "language": "python",
   "name": "python3"
  },
  "language_info": {
   "codemirror_mode": {
    "name": "ipython",
    "version": 3
   },
   "file_extension": ".py",
   "mimetype": "text/x-python",
   "name": "python",
   "nbconvert_exporter": "python",
   "pygments_lexer": "ipython3",
   "version": "3.12.4"
  }
 },
 "nbformat": 4,
 "nbformat_minor": 2
}
