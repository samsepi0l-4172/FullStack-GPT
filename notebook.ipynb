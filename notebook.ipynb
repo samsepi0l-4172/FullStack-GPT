{
 "cells": [
  {
   "cell_type": "code",
   "execution_count": 33,
   "metadata": {},
   "outputs": [],
   "source": [
    "from langchain.chat_models import ChatOpenAI\n",
    "from langchain.prompts import PromptTemplate, ChatPromptTemplate\n",
    "from langchain.callbacks import StreamingStdOutCallbackHandler\n",
    "\n",
    "chat = ChatOpenAI(\n",
    "    temperature = 0.1,\n",
    "    streaming = True,\n",
    "    callbacks=[\n",
    "        StreamingStdOutCallbackHandler()\n",
    "    ]\n",
    ")\n",
    "\n",
    "chef_prompt = ChatPromptTemplate.from_messages(\n",
    "    [\n",
    "        (\"system\", \"You are a world-class international chef. You create easy to follow recipies for any type of cuisine with easy to find ingredients.\"),\n",
    "        (\"human\", \"I want to cook {cuisine} food.\"),\n",
    "    ]\n",
    ")\n",
    "\n",
    "chef_chain = chef_prompt | chat"
   ]
  },
  {
   "cell_type": "code",
   "execution_count": 34,
   "metadata": {},
   "outputs": [
    {
     "name": "stdout",
     "output_type": "stream",
     "text": [
      "Great choice! Indian cuisine is known for its bold flavors and aromatic spices. Let's start with a classic and easy-to-make recipe for Chicken Tikka Masala.\n",
      "\n",
      "Ingredients:\n",
      "- 1 lb boneless, skinless chicken breasts, cut into bite-sized pieces\n",
      "- 1 cup plain yogurt\n",
      "- 2 tbsp lemon juice\n",
      "- 2 tbsp vegetable oil\n",
      "- 1 onion, finely chopped\n",
      "- 3 cloves garlic, minced\n",
      "- 1-inch piece of ginger, grated\n",
      "- 1 can (14 oz) tomato sauce\n",
      "- 1 cup heavy cream\n",
      "- 2 tsp garam masala\n",
      "- 1 tsp ground cumin\n",
      "- 1 tsp ground coriander\n",
      "- 1/2 tsp turmeric\n",
      "- Salt and pepper, to taste\n",
      "- Fresh cilantro, for garnish\n",
      "\n",
      "Instructions:\n",
      "1. In a bowl, mix together the yogurt, lemon juice, 1 tsp garam masala, 1/2 tsp ground cumin, 1/2 tsp ground coriander, turmeric, salt, and pepper. Add the chicken pieces and marinate for at least 1 hour, preferably overnight.\n",
      "2. Preheat the oven to 400°F (200°C). Thread the marinated chicken onto skewers and place them on a baking sheet. Bake for 20-25 minutes or until the chicken is cooked through.\n",
      "3. In a large skillet, heat the vegetable oil over medium heat. Add the chopped onion and cook until softened, about 5 minutes. Add the garlic and ginger, and cook for another 2 minutes.\n",
      "4. Stir in the remaining garam masala, cumin, and coriander. Cook for 1 minute until fragrant.\n",
      "5. Pour in the tomato sauce and heavy cream. Bring to a simmer and let it cook for 10 minutes.\n",
      "6. Add the cooked chicken tikka to the sauce and simmer for an additional 5 minutes.\n",
      "7. Season with salt and pepper to taste. Garnish with fresh cilantro before serving.\n",
      "8. Serve the Chicken Tikka Masala with steamed rice or naan bread.\n",
      "\n",
      "Enjoy your homemade Indian feast!For a vegetarian version of Chicken Tikka Masala, you can easily substitute the chicken with a plant-based alternative such as tofu or paneer. Here's how you can prepare the tofu or paneer as a replacement for the chicken in this recipe:\n",
      "\n",
      "**Tofu:**\n",
      "1. Use firm or extra-firm tofu for this recipe. Press the tofu to remove excess water by wrapping it in a clean kitchen towel or paper towels and placing a heavy object on top for about 15-20 minutes.\n",
      "2. Cut the pressed tofu into bite-sized cubes and follow the same marination process as you would with the chicken. Tofu absorbs flavors well, so marinating it for a longer time can enhance the taste.\n",
      "3. Instead of baking, you can pan-fry the marinated tofu in a bit of oil until it's golden brown and slightly crispy on the outside.\n",
      "\n",
      "**Paneer:**\n",
      "1. Paneer is a type of Indian cheese that holds its shape well when cooked. You can find it in Indian grocery stores or make it at home by curdling hot milk with lemon juice or vinegar.\n",
      "2. Cut the paneer into cubes and lightly fry them in a pan until they develop a golden crust. You can also marinate the paneer cubes before frying for added flavor.\n",
      "3. Once the paneer is cooked, add it to the sauce just like you would with the chicken tikka.\n",
      "\n",
      "By following these simple steps, you can enjoy a delicious vegetarian version of Chicken Tikka Masala without compromising on flavor or texture. Enjoy your vegetarian Indian feast!"
     ]
    },
    {
     "data": {
      "text/plain": [
       "AIMessageChunk(content=\"For a vegetarian version of Chicken Tikka Masala, you can easily substitute the chicken with a plant-based alternative such as tofu or paneer. Here's how you can prepare the tofu or paneer as a replacement for the chicken in this recipe:\\n\\n**Tofu:**\\n1. Use firm or extra-firm tofu for this recipe. Press the tofu to remove excess water by wrapping it in a clean kitchen towel or paper towels and placing a heavy object on top for about 15-20 minutes.\\n2. Cut the pressed tofu into bite-sized cubes and follow the same marination process as you would with the chicken. Tofu absorbs flavors well, so marinating it for a longer time can enhance the taste.\\n3. Instead of baking, you can pan-fry the marinated tofu in a bit of oil until it's golden brown and slightly crispy on the outside.\\n\\n**Paneer:**\\n1. Paneer is a type of Indian cheese that holds its shape well when cooked. You can find it in Indian grocery stores or make it at home by curdling hot milk with lemon juice or vinegar.\\n2. Cut the paneer into cubes and lightly fry them in a pan until they develop a golden crust. You can also marinate the paneer cubes before frying for added flavor.\\n3. Once the paneer is cooked, add it to the sauce just like you would with the chicken tikka.\\n\\nBy following these simple steps, you can enjoy a delicious vegetarian version of Chicken Tikka Masala without compromising on flavor or texture. Enjoy your vegetarian Indian feast!\")"
      ]
     },
     "execution_count": 34,
     "metadata": {},
     "output_type": "execute_result"
    }
   ],
   "source": [
    "veg_chef_prompt = ChatPromptTemplate.from_messages(\n",
    "    [\n",
    "        (\n",
    "            \"system\", \"You are a vegetarian chef specialized on making traditional recipies vegetarian. You find alternative ingredients and explain their preparation. You don't radically modify the recipe. If there is no alternative for a food just say you don't know how to replace it.\"\n",
    "        ),\n",
    "        (\"human\", \"{recipe}\"),\n",
    "    ]\n",
    ")\n",
    "\n",
    "veg_chain = veg_chef_prompt | chat\n",
    "\n",
    "final_chain = {\"recipe\": chef_chain} | veg_chain\n",
    "\n",
    "final_chain.invoke({\"cuisine\": \"indian\"})"
   ]
  }
 ],
 "metadata": {
  "kernelspec": {
   "display_name": "env",
   "language": "python",
   "name": "python3"
  },
  "language_info": {
   "codemirror_mode": {
    "name": "ipython",
    "version": 3
   },
   "file_extension": ".py",
   "mimetype": "text/x-python",
   "name": "python",
   "nbconvert_exporter": "python",
   "pygments_lexer": "ipython3",
   "version": "3.11.9"
  }
 },
 "nbformat": 4,
 "nbformat_minor": 2
}
