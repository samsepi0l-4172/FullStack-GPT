{
 "cells": [
  {
   "cell_type": "code",
   "execution_count": 8,
   "metadata": {},
   "outputs": [
    {
     "data": {
      "text/plain": [
       "(' How many stars? How many atoms in the universe? How many electrons in the universe? How many protons in the universe? How many planets are there? How many stars? How many atoms in the universe?\\n\\nHow many protons are there in the universe?\\n\\nIn an atom, the number of protons and electrons is equal.\\n\\nSo if an atom has 6 protons it has 6 electrons.\\n\\nThe number of protons in a nucleus is called the atomic number.\\n\\nThe atomic number is the same for all atoms of an element, but can be different for atoms of different elements..\\n\\nHow many electrons and neutrons are in the universe?\\n\\nThe mass of the universe is 6 x 10^53. The number of protons and the number of neutrons are the same for all atoms of a particular element. The number of electrons depends on the charge of the atoms.\\n\\nHow many protons and neutrons are in the solar system?\\n\\nThe mass of the sun is 2,000,000,000,000,000,000,000,000,000,000,000,000,000,000,000 (2.0 X 1030) kilograms. (Yes, that’s 200 million billion billion billion billion billion billion billion billion',\n",
       " 'There are currently eight recognized planets in our solar system: Mercury, Venus, Earth, Mars, Jupiter, Saturn, Uranus, and Neptune.')"
      ]
     },
     "execution_count": 8,
     "metadata": {},
     "output_type": "execute_result"
    }
   ],
   "source": [
    "from langchain.llms.openai import OpenAI\n",
    "from langchain.chat_models import ChatOpenAI\n",
    "\n",
    "llm = OpenAI(model=\"davinci-002\")\n",
    "chat = ChatOpenAI(model=\"gpt-3.5-turbo-0125\")\n",
    "\n",
    "a = llm.predict(\"How many planets are there?\")\n",
    "b = chat.predict(\"How many planets are there?\")\n",
    "\n",
    "a, b"
   ]
  },
  {
   "cell_type": "markdown",
   "metadata": {},
   "source": [
    "The issue in your code seems to be a typo in the string \"How many palnets are there?\". The correct spelling should be \"planets\". Here is the corrected code:\n",
    "\n"
   ]
  }
 ],
 "metadata": {
  "kernelspec": {
   "display_name": "env",
   "language": "python",
   "name": "python3"
  },
  "language_info": {
   "codemirror_mode": {
    "name": "ipython",
    "version": 3
   },
   "file_extension": ".py",
   "mimetype": "text/x-python",
   "name": "python",
   "nbconvert_exporter": "python",
   "pygments_lexer": "ipython3",
   "version": "3.11.7"
  }
 },
 "nbformat": 4,
 "nbformat_minor": 2
}
