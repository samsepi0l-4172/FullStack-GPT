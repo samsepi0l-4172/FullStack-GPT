{
 "cells": [
  {
   "cell_type": "code",
   "execution_count": 1,
   "metadata": {},
   "outputs": [
    {
     "data": {
      "text/plain": [
       "(\" In this video from the Royal Institution, astrophysicist Dr. Chris Lintott explains how we have discovered so many planets outside of our solar system, and how we can detect them using telescopes on the ground and in space. He also explains how we can work out the size of the planet and how the planet's atmosphere might be similar or different to our Earth.\\n\\nAstrophysicist Dr Chris Lintott explains the Goldilocks Zone\\n\\nIn this video from the Royal Institution, astrophysicist Dr Chris Lintott explains the Goldilocks Zone. The Goldilocks Zone is the area around a star where it's possible for life to exist. But where is this zone? It's not a physical place, but a range of distances where the temperature of the planet is just right for liquid water to exist on the surface. This is where you would find the most habitable planets.\\n\\nWhat is the Goldilocks Zone? In this video from the Royal Institution, astrophysicist Dr Chris Lintott explains the Goldilocks Zone. The Goldilocks Zone is the area around a star where it's possible for life to exist. But where is this zone? It's not a physical place, but a range\",\n",
       " 'There are 8 officially recognized planets in our solar system: Mercury, Venus, Earth, Mars, Jupiter, Saturn, Uranus, and Neptune.')"
      ]
     },
     "execution_count": 1,
     "metadata": {},
     "output_type": "execute_result"
    }
   ],
   "source": [
    "from langchain.llms.openai import OpenAI\n",
    "from langchain.chat_models import ChatOpenAI\n",
    "\n",
    "llm = OpenAI(model=\"davinci-002\")\n",
    "chat = ChatOpenAI(model=\"gpt-3.5-turbo-0125\")\n",
    "\n",
    "a = llm.predict(\"How many planets are there?\")\n",
    "b = chat.predict(\"How many planets are there?\")\n",
    "\n",
    "a, b"
   ]
  },
  {
   "cell_type": "markdown",
   "metadata": {},
   "source": [
    "The issue in your code seems to be a typo in the string \"How many palnets are there?\". The correct spelling should be \"planets\". Here is the corrected code:\n",
    "\n"
   ]
  }
 ],
 "metadata": {
  "kernelspec": {
   "display_name": "env",
   "language": "python",
   "name": "python3"
  },
  "language_info": {
   "codemirror_mode": {
    "name": "ipython",
    "version": 3
   },
   "file_extension": ".py",
   "mimetype": "text/x-python",
   "name": "python",
   "nbconvert_exporter": "python",
   "pygments_lexer": "ipython3",
   "version": "3.11.7"
  }
 },
 "nbformat": 4,
 "nbformat_minor": 2
}
